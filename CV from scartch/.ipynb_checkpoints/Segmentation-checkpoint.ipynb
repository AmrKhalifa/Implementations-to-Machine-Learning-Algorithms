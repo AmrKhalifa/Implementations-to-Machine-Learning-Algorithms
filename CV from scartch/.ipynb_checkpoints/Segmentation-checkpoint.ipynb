{
 "cells": [
  {
   "cell_type": "code",
   "execution_count": 1,
   "metadata": {},
   "outputs": [],
   "source": [
    "%matplotlib inline"
   ]
  },
  {
   "cell_type": "code",
   "execution_count": 4,
   "metadata": {},
   "outputs": [],
   "source": [
    "#Import libraries\n",
    "import cv2\n",
    "import numpy as np\n",
    "from matplotlib import pyplot as plt\n",
    "from matplotlib import colors\n",
    "from PIL import Image\n",
    "from sklearn.cluster import KMeans"
   ]
  },
  {
   "cell_type": "code",
   "execution_count": 5,
   "metadata": {},
   "outputs": [
    {
     "name": "stdout",
     "output_type": "stream",
     "text": [
      "(49, 49, 48)\n"
     ]
    }
   ],
   "source": [
    "\"Create the bank of filters here\"\n",
    "from makeLMfilters import makeLMfilters"
   ]
  },
  {
   "cell_type": "code",
   "execution_count": null,
   "metadata": {
    "collapsed": true
   },
   "outputs": [],
   "source": [
    "\"1. Read in your source animal image and target background image\""
   ]
  },
  {
   "cell_type": "code",
   "execution_count": null,
   "metadata": {
    "collapsed": true
   },
   "outputs": [],
   "source": [
    "#[Add your code to read image here....]"
   ]
  },
  {
   "cell_type": "code",
   "execution_count": null,
   "metadata": {
    "collapsed": true
   },
   "outputs": [],
   "source": [
    "\"2. Next write the segmentation function that takes in an image\"\n",
    "    \"and extracts the texture features,\"\n",
    "    \"clustering them with k-means to get a segmentation\""
   ]
  },
  {
   "cell_type": "code",
   "execution_count": 170,
   "metadata": {},
   "outputs": [],
   "source": [
    "def segmentImg(img, k):\n",
    "    \n",
    "    #[Add your code here....]\n",
    "    \n",
    "    \n",
    "    #idx is a 2d array of labels obtained from k-means\n",
    "    #We can display idx for visualization\n",
    "    im = Image.fromarray(idx)\n",
    "    cmapx = colors.ListedColormap([ 'gold', 'green', 'blue','red','cyan', 'magenta','orange','navy', 'white','sienna'])\n",
    "    #cmapx = colors.ListedColormap([ '0',     '1',    '2',  '3',   '4',     '5',     '6',     '7',    '8',    '9'])\n",
    "    boundx = [0,1,2,3,4,5,6,7,8,9,10]\n",
    "    boundx = [0,1,2,3,4,5,6,7,8,9,10]\n",
    "    normx = colors.BoundaryNorm(boundx, cmapx.N)\n",
    "    plt.imshow(im, cmap=cmapx, norm=normx)\n",
    "    plt.axis('off')\n",
    "    plt.show()\n",
    "    \n",
    "    idx = np.uint8(idx)\n",
    "    return idx\n",
    "    return idx"
   ]
  },
  {
   "cell_type": "code",
   "execution_count": null,
   "metadata": {
    "scrolled": false
   },
   "outputs": [],
   "source": [
    "\"3. This is an auxilliary function transfer image provided for you to create the composite image\""
   ]
  },
  {
   "cell_type": "code",
   "execution_count": 157,
   "metadata": {},
   "outputs": [],
   "source": [
    "def transferImg(fgs, idxImg, sImg, tImg):   \n",
    "# transferImg(fgs, idxImg, sImg, tImg)\n",
    "#fgs - array of foreground segments e.g [1 2 4 5] \n",
    "#idxImg - logical image containing indexes of segments (same size as sImg)\n",
    "#sImg - source image where object was segmented from (color)\n",
    "#tImg - target image where object will be transferred (color)\n",
    "\n",
    "    rows = np.size(sImg, 0)\n",
    "    cols = np.size(sImg, 1) \n",
    "\n",
    "    # Crop the images\n",
    "    idxImg = idxImg[25:rows-25, 25:cols-25]\n",
    "    sImg = sImg[25:rows-25, 25:cols-25]\n",
    "    rows = np.size(sImg, 0)\n",
    "    cols = np.size(sImg, 1)\n",
    "\n",
    "    # Scale the image by .5\n",
    "    idxImg = cv2.resize(idxImg,(0,0), fx=0.5, fy=0.5)\n",
    "    sImg = cv2.resize(sImg,(0,0), fx=0.5, fy=0.5)\n",
    "    rows = np.size(sImg, 0)\n",
    "    cols = np.size(sImg, 1)\n",
    "    \n",
    "    # Transfer idx onto tImg\n",
    "    for i in range(rows): \n",
    "        for j in range(cols):\n",
    "            if idxImg[i][j] in fgs:\n",
    "                # Coordinate offsets from boundary\n",
    "                iOff = i+200\n",
    "                jOff = j+100 \n",
    "                tImg[iOff][jOff][0] = sImg[i][j][0]\n",
    "                tImg[iOff][jOff][1] = sImg[i][j][1]\n",
    "                tImg[iOff][jOff][2] = sImg[i][j][2]\n",
    "\n",
    "    return tImg"
   ]
  },
  {
   "cell_type": "code",
   "execution_count": null,
   "metadata": {},
   "outputs": [],
   "source": []
  }
 ],
 "metadata": {
  "kernelspec": {
   "display_name": "Python 3",
   "language": "python",
   "name": "python3"
  },
  "language_info": {
   "codemirror_mode": {
    "name": "ipython",
    "version": 3
   },
   "file_extension": ".py",
   "mimetype": "text/x-python",
   "name": "python",
   "nbconvert_exporter": "python",
   "pygments_lexer": "ipython3",
   "version": "3.7.4"
  }
 },
 "nbformat": 4,
 "nbformat_minor": 2
}
